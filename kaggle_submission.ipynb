{
 "cells": [
  {
   "cell_type": "code",
   "execution_count": null,
   "id": "cb578322",
   "metadata": {
    "execution": {
     "iopub.execute_input": "2024-04-05T12:31:14.009210Z",
     "iopub.status.busy": "2024-04-05T12:31:14.008762Z",
     "iopub.status.idle": "2024-04-05T12:31:17.210634Z",
     "shell.execute_reply": "2024-04-05T12:31:17.209557Z"
    },
    "papermill": {
     "duration": 3.211384,
     "end_time": "2024-04-05T12:31:17.213441",
     "exception": false,
     "start_time": "2024-04-05T12:31:14.002057",
     "status": "completed"
    },
    "tags": []
   },
   "outputs": [],
   "source": [
    "import os\n",
    "import pandas as pd\n",
    "\n",
    "!wandb off\n",
    "# wandb.login()"
   ]
  },
  {
   "cell_type": "code",
   "execution_count": null,
   "id": "6c2bf9f8",
   "metadata": {
    "collapsed": true,
    "execution": {
     "iopub.execute_input": "2024-04-05T12:31:17.224311Z",
     "iopub.status.busy": "2024-04-05T12:31:17.223955Z",
     "iopub.status.idle": "2024-04-05T12:33:44.965336Z",
     "shell.execute_reply": "2024-04-05T12:33:44.964029Z"
    },
    "jupyter": {
     "outputs_hidden": true
    },
    "papermill": {
     "duration": 147.749841,
     "end_time": "2024-04-05T12:33:44.968129",
     "exception": false,
     "start_time": "2024-04-05T12:31:17.218288",
     "status": "completed"
    },
    "tags": []
   },
   "outputs": [],
   "source": [
    "!mamba create -n py312 -y\n",
    "!source /opt/conda/bin/activate py312 && mamba install python=3.12.2 jupyter mamba -y\n",
    "\n",
    "!sudo rm /opt/conda/bin/python3\n",
    "!sudo ln -sf /opt/conda/envs/py312/bin/python3 /opt/conda/bin/python3\n",
    "!sudo rm /opt/conda/bin/python3.7\n",
    "!sudo ln -sf /opt/conda/envs/py312/bin/python3 /opt/conda/bin/python3.7\n",
    "!sudo rm /opt/conda/bin/python\n",
    "!sudo ln -sf /opt/conda/envs/py312/bin/python3 /opt/conda/bin/python"
   ]
  },
  {
   "cell_type": "code",
   "execution_count": null,
   "id": "c9a7213b",
   "metadata": {
    "execution": {
     "iopub.execute_input": "2024-04-05T12:33:45.155076Z",
     "iopub.status.busy": "2024-04-05T12:33:45.154645Z",
     "iopub.status.idle": "2024-04-05T12:33:47.198588Z",
     "shell.execute_reply": "2024-04-05T12:33:47.197213Z"
    },
    "papermill": {
     "duration": 2.139982,
     "end_time": "2024-04-05T12:33:47.201277",
     "exception": false,
     "start_time": "2024-04-05T12:33:45.061295",
     "status": "completed"
    },
    "tags": []
   },
   "outputs": [],
   "source": [
    "!git clone https://github.com/Ben-Gayther/predicting_goodreads_review_ratings.git"
   ]
  },
  {
   "cell_type": "code",
   "execution_count": null,
   "id": "92c86849",
   "metadata": {
    "execution": {
     "iopub.execute_input": "2024-04-05T12:33:47.392969Z",
     "iopub.status.busy": "2024-04-05T12:33:47.392543Z",
     "iopub.status.idle": "2024-04-05T12:33:47.397948Z",
     "shell.execute_reply": "2024-04-05T12:33:47.397025Z"
    },
    "papermill": {
     "duration": 0.103856,
     "end_time": "2024-04-05T12:33:47.400015",
     "exception": false,
     "start_time": "2024-04-05T12:33:47.296159",
     "status": "completed"
    },
    "tags": []
   },
   "outputs": [],
   "source": [
    "os.chdir(\"predicting_goodreads_review_ratings\")"
   ]
  },
  {
   "cell_type": "code",
   "execution_count": null,
   "id": "0fa88435",
   "metadata": {
    "execution": {
     "iopub.execute_input": "2024-04-05T12:33:47.586725Z",
     "iopub.status.busy": "2024-04-05T12:33:47.586331Z",
     "iopub.status.idle": "2024-04-05T12:33:47.592015Z",
     "shell.execute_reply": "2024-04-05T12:33:47.591006Z"
    },
    "papermill": {
     "duration": 0.099772,
     "end_time": "2024-04-05T12:33:47.594214",
     "exception": false,
     "start_time": "2024-04-05T12:33:47.494442",
     "status": "completed"
    },
    "tags": []
   },
   "outputs": [],
   "source": [
    "yaml_contents = \"\"\"\n",
    "---\n",
    "LOGGING:\n",
    "  LEVEL: \"INFO\"\n",
    "  FORMAT: \"%(asctime)s - %(name)s - %(levelname)s - %(message)s\"\n",
    "\n",
    "TRAINING_ARGS:\n",
    "  MODEL_NAME: \"nlptown/bert-base-multilingual-uncased-sentiment\"\n",
    "  LEARNING_RATE: 2.0e-5\n",
    "  MAX_LENGTH: 256\n",
    "  BATCH_SIZE: 80\n",
    "  EPOCHS: 1\n",
    "  FULL_DATASET: True\n",
    "  TEST_RUN: False\n",
    "  OUTPUT_DIR: \"models/\"\n",
    "  SUBMISSION_NAME: \"/kaggle/working/submission.csv\"\n",
    "\n",
    "DATA_ARGS:\n",
    "  INPUT_TRAIN_DATA: \"/kaggle/input/goodreads-books-reviews-290312/goodreads_train.csv\"\n",
    "  OUTPUT_TRAIN_NAME: \"data/processed_goodreads_train.csv\"\n",
    "  INPUT_TEST_DATA: \"/kaggle/input/goodreads-books-reviews-290312/goodreads_test.csv\"\n",
    "  OUTPUT_TEST_NAME: \"data/processed_goodreads_test.csv\"\n",
    "\"\"\""
   ]
  },
  {
   "cell_type": "code",
   "execution_count": null,
   "id": "b3337860",
   "metadata": {
    "execution": {
     "iopub.execute_input": "2024-04-05T12:33:47.784687Z",
     "iopub.status.busy": "2024-04-05T12:33:47.783974Z",
     "iopub.status.idle": "2024-04-05T12:33:47.789404Z",
     "shell.execute_reply": "2024-04-05T12:33:47.788446Z"
    },
    "papermill": {
     "duration": 0.102773,
     "end_time": "2024-04-05T12:33:47.791637",
     "exception": false,
     "start_time": "2024-04-05T12:33:47.688864",
     "status": "completed"
    },
    "tags": []
   },
   "outputs": [],
   "source": [
    "with open(\"config.yaml\", \"w\") as file:\n",
    "    file.write(yaml_contents)"
   ]
  },
  {
   "cell_type": "code",
   "execution_count": null,
   "id": "820b7779",
   "metadata": {
    "collapsed": true,
    "execution": {
     "iopub.execute_input": "2024-04-05T12:33:47.997010Z",
     "iopub.status.busy": "2024-04-05T12:33:47.996100Z",
     "iopub.status.idle": "2024-04-05T12:36:33.844776Z",
     "shell.execute_reply": "2024-04-05T12:36:33.843662Z"
    },
    "jupyter": {
     "outputs_hidden": true
    },
    "papermill": {
     "duration": 165.96137,
     "end_time": "2024-04-05T12:36:33.847469",
     "exception": false,
     "start_time": "2024-04-05T12:33:47.886099",
     "status": "completed"
    },
    "tags": []
   },
   "outputs": [],
   "source": [
    "%pip install -r requirements.txt"
   ]
  },
  {
   "cell_type": "code",
   "execution_count": null,
   "id": "42ced32a",
   "metadata": {
    "execution": {
     "iopub.execute_input": "2024-04-05T12:36:34.186747Z",
     "iopub.status.busy": "2024-04-05T12:36:34.186289Z",
     "iopub.status.idle": "2024-04-05T12:40:02.426443Z",
     "shell.execute_reply": "2024-04-05T12:40:02.425271Z"
    },
    "papermill": {
     "duration": 208.412051,
     "end_time": "2024-04-05T12:40:02.429023",
     "exception": false,
     "start_time": "2024-04-05T12:36:34.016972",
     "status": "completed"
    },
    "tags": []
   },
   "outputs": [],
   "source": [
    "%python src/prepare_data.py"
   ]
  },
  {
   "cell_type": "code",
   "execution_count": null,
   "id": "bea8e440",
   "metadata": {
    "execution": {
     "iopub.execute_input": "2024-04-05T12:40:02.769982Z",
     "iopub.status.busy": "2024-04-05T12:40:02.769581Z",
     "iopub.status.idle": "2024-04-05T18:45:10.370641Z",
     "shell.execute_reply": "2024-04-05T18:45:10.369435Z"
    },
    "papermill": {
     "duration": 21907.77425,
     "end_time": "2024-04-05T18:45:10.373290",
     "exception": false,
     "start_time": "2024-04-05T12:40:02.599040",
     "status": "completed"
    },
    "tags": []
   },
   "outputs": [],
   "source": [
    "%python src/train_model.py"
   ]
  },
  {
   "cell_type": "code",
   "execution_count": null,
   "id": "88882525",
   "metadata": {
    "execution": {
     "iopub.execute_input": "2024-04-05T18:45:12.817121Z",
     "iopub.status.busy": "2024-04-05T18:45:12.816725Z",
     "iopub.status.idle": "2024-04-05T20:12:34.908802Z",
     "shell.execute_reply": "2024-04-05T20:12:34.907612Z"
    },
    "papermill": {
     "duration": 5243.315609,
     "end_time": "2024-04-05T20:12:34.911419",
     "exception": false,
     "start_time": "2024-04-05T18:45:11.595810",
     "status": "completed"
    },
    "tags": []
   },
   "outputs": [],
   "source": [
    "%python src/make_preds.py"
   ]
  },
  {
   "cell_type": "code",
   "execution_count": null,
   "id": "cb4d075f",
   "metadata": {
    "execution": {
     "iopub.execute_input": "2024-04-05T20:12:37.284592Z",
     "iopub.status.busy": "2024-04-05T20:12:37.284153Z",
     "iopub.status.idle": "2024-04-05T20:12:44.240246Z",
     "shell.execute_reply": "2024-04-05T20:12:44.239355Z"
    },
    "papermill": {
     "duration": 8.084626,
     "end_time": "2024-04-05T20:12:44.242864",
     "exception": false,
     "start_time": "2024-04-05T20:12:36.158238",
     "status": "completed"
    },
    "tags": []
   },
   "outputs": [],
   "source": [
    "submission_df = pd.read_csv(\"/kaggle/working/submission.csv\")\n",
    "test_df = pd.read_csv(\"/kaggle/input/goodreads-books-reviews-290312/goodreads_test.csv\")\n",
    "assert len(submission_df) == len(test_df)"
   ]
  }
 ],
 "metadata": {
  "kaggle": {
   "accelerator": "gpu",
   "dataSources": [
    {
     "databundleVersionId": 3073370,
     "sourceId": 33579,
     "sourceType": "competition"
    }
   ],
   "dockerImageVersionId": 30396,
   "isGpuEnabled": true,
   "isInternetEnabled": true,
   "language": "python",
   "sourceType": "notebook"
  },
  "kernelspec": {
   "display_name": "Python 3",
   "language": "python",
   "name": "python3"
  },
  "language_info": {
   "codemirror_mode": {
    "name": "ipython",
    "version": 3
   },
   "file_extension": ".py",
   "mimetype": "text/x-python",
   "name": "python",
   "nbconvert_exporter": "python",
   "pygments_lexer": "ipython3",
   "version": "3.7.12"
  },
  "papermill": {
   "default_parameters": {},
   "duration": 27703.832697,
   "end_time": "2024-04-05T20:12:48.636799",
   "environment_variables": {},
   "exception": null,
   "input_path": "__notebook__.ipynb",
   "output_path": "__notebook__.ipynb",
   "parameters": {},
   "start_time": "2024-04-05T12:31:04.804102",
   "version": "2.3.4"
  }
 },
 "nbformat": 4,
 "nbformat_minor": 5
}
